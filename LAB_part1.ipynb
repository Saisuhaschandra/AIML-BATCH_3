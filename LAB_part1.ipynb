{
  "nbformat": 4,
  "nbformat_minor": 0,
  "metadata": {
    "colab": {
      "provenance": [],
      "authorship_tag": "ABX9TyMW7JQ5dPCadPHKZbF/R7Eq",
      "include_colab_link": true
    },
    "kernelspec": {
      "name": "python3",
      "display_name": "Python 3"
    },
    "language_info": {
      "name": "python"
    }
  },
  "cells": [
    {
      "cell_type": "markdown",
      "metadata": {
        "id": "view-in-github",
        "colab_type": "text"
      },
      "source": [
        "<a href=\"https://colab.research.google.com/github/Saisuhaschandra/AIML-LAB/blob/main/LAB_part1.ipynb\" target=\"_parent\"><img src=\"https://colab.research.google.com/assets/colab-badge.svg\" alt=\"Open In Colab\"/></a>"
      ]
    },
    {
      "cell_type": "code",
      "execution_count": null,
      "metadata": {
        "colab": {
          "base_uri": "https://localhost:8080/"
        },
        "id": "2kUOrOk9lE_e",
        "outputId": "4cb5068d-4306-4d26-f185-acc54caa8be9"
      },
      "outputs": [
        {
          "output_type": "stream",
          "name": "stdout",
          "text": [
            "1\n",
            "hello\n"
          ]
        }
      ],
      "source": [
        "#lists\n",
        "my_list = [1, 2, 3,\"hello\", \"world\"]\n",
        "print(my_list[0])\n",
        "print(my_list[3])\n"
      ]
    },
    {
      "cell_type": "code",
      "source": [
        "#arrays\n",
        "import numpy as np\n",
        "arr=np.array([1,2,3,4,5])\n",
        "print(arr[1:3])"
      ],
      "metadata": {
        "id": "s0ZAZeTVmMzm",
        "colab": {
          "base_uri": "https://localhost:8080/"
        },
        "outputId": "4b6e451a-d80a-4662-b00a-4d803f162582"
      },
      "execution_count": null,
      "outputs": [
        {
          "output_type": "stream",
          "name": "stdout",
          "text": [
            "[2 3]\n"
          ]
        }
      ]
    },
    {
      "cell_type": "code",
      "source": [
        "#identifing their type()\n",
        "\n",
        "type(arr)"
      ],
      "metadata": {
        "colab": {
          "base_uri": "https://localhost:8080/"
        },
        "id": "9W6xBmPzorSn",
        "outputId": "1269a542-c41e-45dd-9479-e699a833d062"
      },
      "execution_count": null,
      "outputs": [
        {
          "output_type": "execute_result",
          "data": {
            "text/plain": [
              "numpy.ndarray"
            ]
          },
          "metadata": {},
          "execution_count": 7
        }
      ]
    },
    {
      "cell_type": "code",
      "source": [
        "#operations\n",
        "import numpy as np\n",
        "arr1=np.array([5,6,7])\n",
        "arr2=np.array([1,2,3])\n",
        "arr3=arr1+arr2\n",
        "print(\"add\")\n",
        "print(arr3)\n",
        "arr3=arr1-arr2\n",
        "print(\"sub\")\n",
        "print(arr3)\n",
        "arr3=arr1*arr2\n",
        "print(\"mul\")\n",
        "print(arr3)\n",
        "\n",
        "arr3=arr1 ** arr2\n",
        "print(\"power\")\n",
        "print(arr3)"
      ],
      "metadata": {
        "colab": {
          "base_uri": "https://localhost:8080/"
        },
        "id": "OVlSdbl0pSvB",
        "outputId": "7064fc8e-0235-4e83-d273-18d8b8802473"
      },
      "execution_count": null,
      "outputs": [
        {
          "output_type": "stream",
          "name": "stdout",
          "text": [
            "add\n",
            "[ 6  8 10]\n",
            "sub\n",
            "[4 4 4]\n",
            "mul\n",
            "[ 5 12 21]\n",
            "power\n",
            "[  5  36 343]\n"
          ]
        }
      ]
    },
    {
      "cell_type": "code",
      "source": [
        "#addition with textual output\n",
        "import numpy as np\n",
        "arr1=np.array([1,2,3])\n",
        "arr2=np.array([4,5,6])\n",
        "output=\"addition of two arrays: array1 + array2 =\",list(arr1)+arr2\n",
        "print(output)\n"
      ],
      "metadata": {
        "colab": {
          "base_uri": "https://localhost:8080/"
        },
        "id": "bQ9RhuZruowj",
        "outputId": "be8dac2c-b0a1-4df8-efef-00de2a18aa12"
      },
      "execution_count": null,
      "outputs": [
        {
          "output_type": "stream",
          "name": "stdout",
          "text": [
            "('addition of two arrays: array1 + array2 =', array([5, 7, 9]))\n"
          ]
        }
      ]
    }
  ]
}