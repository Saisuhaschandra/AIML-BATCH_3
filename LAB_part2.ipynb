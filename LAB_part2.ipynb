{
  "nbformat": 4,
  "nbformat_minor": 0,
  "metadata": {
    "colab": {
      "provenance": [],
      "authorship_tag": "ABX9TyNoc9W5sr3M11JtEBU9UlkH",
      "include_colab_link": true
    },
    "kernelspec": {
      "name": "python3",
      "display_name": "Python 3"
    },
    "language_info": {
      "name": "python"
    }
  },
  "cells": [
    {
      "cell_type": "markdown",
      "metadata": {
        "id": "view-in-github",
        "colab_type": "text"
      },
      "source": [
        "<a href=\"https://colab.research.google.com/github/Saisuhaschandra/AIML-LAB/blob/main/LAB_part2.ipynb\" target=\"_parent\"><img src=\"https://colab.research.google.com/assets/colab-badge.svg\" alt=\"Open In Colab\"/></a>"
      ]
    },
    {
      "cell_type": "code",
      "execution_count": null,
      "metadata": {
        "colab": {
          "base_uri": "https://localhost:8080/"
        },
        "id": "bHk34oGfwyxK",
        "outputId": "5d67a159-3e74-48de-cb26-3714a0b5c378"
      },
      "outputs": [
        {
          "output_type": "stream",
          "name": "stdout",
          "text": [
            "    name  age  height  weight\n",
            "0  kiran   25     145      45\n",
            "1   ajay   30     151      55\n",
            "2  vijay   35     165      65\n",
            "3  varun   26     173      75\n"
          ]
        }
      ],
      "source": [
        "import pandas as pd\n",
        "people=['kiran','ajay','vijay','varun']\n",
        "age=[25,30,35,26]\n",
        "height=[145,151,165,173]\n",
        "weight=[45,55,65,75]\n",
        "data={\n",
        "    \"name\":people,\n",
        "    \"age\":age,\n",
        "    \"height\":height,\n",
        "    \"weight\":weight,\n",
        "}\n",
        "df=pd.DataFrame(data)\n",
        "print(df)\n"
      ]
    }
  ]
}